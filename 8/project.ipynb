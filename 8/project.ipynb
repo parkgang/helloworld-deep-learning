{
 "metadata": {
  "language_info": {
   "codemirror_mode": {
    "name": "ipython",
    "version": 3
   },
   "file_extension": ".py",
   "mimetype": "text/x-python",
   "name": "python",
   "nbconvert_exporter": "python",
   "pygments_lexer": "ipython3",
   "version": "3.6.13"
  },
  "orig_nbformat": 2,
  "kernelspec": {
   "name": "python3613jvsc74a57bd0a2436e8a43dbf0447382ca21e2c55c30f5c01dba43d9dbaa834407d0e46038b4",
   "display_name": "Python 3.6.13 64-bit ('keras': conda)"
  }
 },
 "nbformat": 4,
 "nbformat_minor": 2,
 "cells": [
  {
   "cell_type": "code",
   "execution_count": 1,
   "metadata": {},
   "outputs": [],
   "source": [
    "import numpy as np\n",
    "import tensorflow as tf\n",
    "from tensorflow.keras.datasets import mnist\n",
    "\n",
    "from tensorflow.keras.models import Sequential\n",
    "from tensorflow.keras.layers import Dense\n",
    "from tensorflow.keras.optimizers import Adam"
   ]
  },
  {
   "cell_type": "code",
   "execution_count": 2,
   "metadata": {},
   "outputs": [
    {
     "output_type": "stream",
     "name": "stdout",
     "text": [
      "Train on 60000 samples, validate on 10000 samples\nEpoch 1/30\n"
     ]
    }
   ],
   "source": [
    "# MNIST 읽어 와서 신경망에 입력할 형태로 변환\n",
    "(x_train, y_train), (x_test, y_test) = mnist.load_data()\n",
    "x_train = x_train.reshape(60000, 784)                   # 텐서 모양 변환\n",
    "x_test = x_test.reshape(10000, 784)\n",
    "x_train = x_train.astype(np.float32) / 255.0            # ndarray 변환\n",
    "x_test = x_test.astype(np.float32) / 255.0\n",
    "y_train = tf.keras.utils.to_categorical(y_train, 10)    # 원핫 코드로 변환\n",
    "y_test = tf.keras.utils.to_categorical(y_test, 10)\n",
    "\n",
    "# 신경망 구조 설계\n",
    "n_input = 784\n",
    "n_hidden = 1024\n",
    "n_output = 10\n",
    "\n",
    "mlp = Sequential()\n",
    "mlp.add(Dense(units = n_hidden, activation = 'tanh', input_shape = (n_input,), kernel_initializer = 'random_uniform', bias_initializer = 'zeros'))\n",
    "mlp.add(Dense(units = n_output, activation = 'tanh', kernel_initializer = 'random_uniform', bias_initializer = 'zeros'))\n",
    "\n",
    "# 신경망 학습\n",
    "mlp.compile(loss = 'mean_squared_error', optimizer = Adam(learning_rate = 0.0001), metrics=['accuracy'])\n",
    "hist = mlp.fit(x_train, y_train, batch_size = 128, epochs = 30, validation_data = (x_test, y_test), verbose = 2)\n",
    "\n",
    "# 학습된 신경망으로 예측\n",
    "res = mlp.evaluate(x_test, y_test, verbose = 0)\n",
    "print(\"정확률은\", res[1] * 100)"
   ]
  },
  {
   "cell_type": "code",
   "execution_count": null,
   "metadata": {},
   "outputs": [],
   "source": []
  }
 ]
}