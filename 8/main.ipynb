{
 "metadata": {
  "language_info": {
   "codemirror_mode": {
    "name": "ipython",
    "version": 3
   },
   "file_extension": ".py",
   "mimetype": "text/x-python",
   "name": "python",
   "nbconvert_exporter": "python",
   "pygments_lexer": "ipython3",
   "version": "3.6.13"
  },
  "orig_nbformat": 2,
  "kernelspec": {
   "name": "python3613jvsc74a57bd0a2436e8a43dbf0447382ca21e2c55c30f5c01dba43d9dbaa834407d0e46038b4",
   "display_name": "Python 3.6.13 64-bit ('keras': conda)"
  }
 },
 "nbformat": 4,
 "nbformat_minor": 2,
 "cells": [
  {
   "cell_type": "code",
   "execution_count": 1,
   "metadata": {},
   "outputs": [],
   "source": [
    "import numpy as np\n",
    "import tensorflow as tf\n",
    "from tensorflow.keras.datasets import mnist\n",
    "\n",
    "from tensorflow.keras.models import Sequential\n",
    "from tensorflow.keras.layers import Dense\n",
    "from tensorflow.keras.optimizers import Adam"
   ]
  },
  {
   "cell_type": "code",
   "execution_count": 2,
   "metadata": {},
   "outputs": [
    {
     "output_type": "stream",
     "name": "stdout",
     "text": [
      "Train on 60000 samples, validate on 10000 samples\n",
      "Epoch 1/30\n",
      "60000/60000 - 5s - loss: 0.0468 - accuracy: 0.8183 - val_loss: 0.0409 - val_accuracy: 0.8550\n",
      "Epoch 2/30\n",
      "60000/60000 - 4s - loss: 0.0389 - accuracy: 0.8587 - val_loss: 0.0362 - val_accuracy: 0.8691\n",
      "Epoch 3/30\n",
      "60000/60000 - 5s - loss: 0.0340 - accuracy: 0.8795 - val_loss: 0.0311 - val_accuracy: 0.8922\n",
      "Epoch 4/30\n",
      "60000/60000 - 4s - loss: 0.0291 - accuracy: 0.9003 - val_loss: 0.0269 - val_accuracy: 0.9139\n",
      "Epoch 5/30\n",
      "60000/60000 - 4s - loss: 0.0255 - accuracy: 0.9177 - val_loss: 0.0241 - val_accuracy: 0.9235\n",
      "Epoch 6/30\n",
      "60000/60000 - 5s - loss: 0.0228 - accuracy: 0.9275 - val_loss: 0.0215 - val_accuracy: 0.9310\n",
      "Epoch 7/30\n",
      "60000/60000 - 5s - loss: 0.0208 - accuracy: 0.9344 - val_loss: 0.0198 - val_accuracy: 0.9373\n",
      "Epoch 8/30\n",
      "60000/60000 - 5s - loss: 0.0193 - accuracy: 0.9395 - val_loss: 0.0184 - val_accuracy: 0.9440\n",
      "Epoch 9/30\n",
      "60000/60000 - 5s - loss: 0.0179 - accuracy: 0.9445 - val_loss: 0.0174 - val_accuracy: 0.9480\n",
      "Epoch 10/30\n",
      "60000/60000 - 5s - loss: 0.0169 - accuracy: 0.9479 - val_loss: 0.0164 - val_accuracy: 0.9492\n",
      "Epoch 11/30\n",
      "60000/60000 - 5s - loss: 0.0160 - accuracy: 0.9509 - val_loss: 0.0156 - val_accuracy: 0.9520\n",
      "Epoch 12/30\n",
      "60000/60000 - 5s - loss: 0.0151 - accuracy: 0.9537 - val_loss: 0.0150 - val_accuracy: 0.9540\n",
      "Epoch 13/30\n",
      "60000/60000 - 5s - loss: 0.0145 - accuracy: 0.9562 - val_loss: 0.0145 - val_accuracy: 0.9557\n",
      "Epoch 14/30\n",
      "60000/60000 - 5s - loss: 0.0138 - accuracy: 0.9579 - val_loss: 0.0137 - val_accuracy: 0.9578\n",
      "Epoch 15/30\n",
      "60000/60000 - 5s - loss: 0.0133 - accuracy: 0.9599 - val_loss: 0.0133 - val_accuracy: 0.9589\n",
      "Epoch 16/30\n",
      "60000/60000 - 5s - loss: 0.0128 - accuracy: 0.9618 - val_loss: 0.0129 - val_accuracy: 0.9598\n",
      "Epoch 17/30\n",
      "60000/60000 - 5s - loss: 0.0124 - accuracy: 0.9636 - val_loss: 0.0126 - val_accuracy: 0.9618\n",
      "Epoch 18/30\n",
      "60000/60000 - 5s - loss: 0.0120 - accuracy: 0.9651 - val_loss: 0.0122 - val_accuracy: 0.9631\n",
      "Epoch 19/30\n",
      "60000/60000 - 5s - loss: 0.0116 - accuracy: 0.9664 - val_loss: 0.0119 - val_accuracy: 0.9645\n",
      "Epoch 20/30\n",
      "60000/60000 - 5s - loss: 0.0113 - accuracy: 0.9678 - val_loss: 0.0115 - val_accuracy: 0.9644\n",
      "Epoch 21/30\n",
      "60000/60000 - 5s - loss: 0.0110 - accuracy: 0.9684 - val_loss: 0.0113 - val_accuracy: 0.9652\n",
      "Epoch 22/30\n",
      "60000/60000 - 5s - loss: 0.0107 - accuracy: 0.9693 - val_loss: 0.0111 - val_accuracy: 0.9664\n",
      "Epoch 23/30\n",
      "60000/60000 - 5s - loss: 0.0104 - accuracy: 0.9702 - val_loss: 0.0109 - val_accuracy: 0.9666\n",
      "Epoch 24/30\n",
      "60000/60000 - 6s - loss: 0.0102 - accuracy: 0.9712 - val_loss: 0.0108 - val_accuracy: 0.9675\n",
      "Epoch 25/30\n",
      "60000/60000 - 5s - loss: 0.0099 - accuracy: 0.9718 - val_loss: 0.0104 - val_accuracy: 0.9675\n",
      "Epoch 26/30\n",
      "60000/60000 - 5s - loss: 0.0097 - accuracy: 0.9727 - val_loss: 0.0104 - val_accuracy: 0.9687\n",
      "Epoch 27/30\n",
      "60000/60000 - 5s - loss: 0.0095 - accuracy: 0.9737 - val_loss: 0.0104 - val_accuracy: 0.9684\n",
      "Epoch 28/30\n",
      "60000/60000 - 5s - loss: 0.0093 - accuracy: 0.9740 - val_loss: 0.0101 - val_accuracy: 0.9689\n",
      "Epoch 29/30\n",
      "60000/60000 - 5s - loss: 0.0092 - accuracy: 0.9750 - val_loss: 0.0100 - val_accuracy: 0.9699\n",
      "Epoch 30/30\n",
      "60000/60000 - 5s - loss: 0.0090 - accuracy: 0.9752 - val_loss: 0.0098 - val_accuracy: 0.9692\n",
      "정확률은 96.92000150680542\n"
     ]
    }
   ],
   "source": [
    "# MNIST 읽어 와서 신경망에 입력할 형태로 변환\n",
    "(x_train, y_train), (x_test, y_test) = mnist.load_data()\n",
    "x_train = x_train.reshape(60000, 784)                   # 텐서 모양 변환\n",
    "x_test = x_test.reshape(10000, 784)\n",
    "x_train = x_train.astype(np.float32) / 255.0            # ndarray 변환\n",
    "x_test = x_test.astype(np.float32) / 255.0\n",
    "y_train = tf.keras.utils.to_categorical(y_train, 10)    # 원핫 코드로 변환\n",
    "y_test = tf.keras.utils.to_categorical(y_test, 10)\n",
    "\n",
    "# 신경망 구조 설계\n",
    "n_input = 784\n",
    "n_hidden = 1024\n",
    "n_output = 10\n",
    "\n",
    "mlp = Sequential()\n",
    "mlp.add(Dense(units = n_hidden, activation = 'tanh', input_shape = (n_input,), kernel_initializer = 'random_uniform', bias_initializer = 'zeros'))\n",
    "mlp.add(Dense(units = n_output, activation = 'tanh', kernel_initializer = 'random_uniform', bias_initializer = 'zeros'))\n",
    "\n",
    "# 신경망 학습\n",
    "mlp.compile(loss = 'mean_squared_error', optimizer = Adam(learning_rate = 0.0001), metrics=['accuracy'])\n",
    "hist = mlp.fit(x_train, y_train, batch_size = 128, epochs = 30, validation_data = (x_test, y_test), verbose = 2)\n",
    "\n",
    "# 학습된 신경망으로 예측\n",
    "res = mlp.evaluate(x_test, y_test, verbose = 0)\n",
    "print(\"정확률은\", res[1] * 100)"
   ]
  },
  {
   "cell_type": "code",
   "execution_count": null,
   "metadata": {},
   "outputs": [],
   "source": []
  }
 ]
}